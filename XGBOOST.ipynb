{
 "cells": [
  {
   "cell_type": "markdown",
   "id": "57fab3da",
   "metadata": {},
   "source": [
    "### XGBOOST"
   ]
  },
  {
   "cell_type": "code",
   "execution_count": 2,
   "id": "393fedd6",
   "metadata": {},
   "outputs": [
    {
     "name": "stdout",
     "output_type": "stream",
     "text": [
      "Root Mean Squared Error (RMSE): 30.242968512094954\n",
      "Mean Absolute Error (MAE): 17.631582118443077\n",
      "R-squared: 0.993534171983536\n"
     ]
    }
   ],
   "source": [
    "import pandas as pd\n",
    "import numpy as np\n",
    "import pandas as pd\n",
    "import numpy as np\n",
    "import xgboost as xgb\n",
    "import matplotlib.pyplot as plt\n",
    "from sklearn.model_selection import train_test_split\n",
    "from sklearn.metrics import mean_squared_error, mean_absolute_error, r2_score\n",
    "from sklearn.preprocessing import MinMaxScaler\n",
    "\n",
    "# Load stock price data from CSV file\n",
    "data = pd.read_csv('google.csv')\n",
    "\n",
    "# Use 'Close' price as the feature and shift it to create the target variable\n",
    "data['Next_Day_Close'] = data['close'].shift(-1)\n",
    "\n",
    "# Drop rows with missing values (last row)\n",
    "data.dropna(inplace=True)\n",
    "\n",
    "# Define features and target variable\n",
    "features = ['close']\n",
    "target = 'Next_Day_Close'\n",
    "\n",
    "X = data[features]\n",
    "y = data[target]\n",
    "\n",
    "# Scale the features using MinMaxScaler\n",
    "scaler = MinMaxScaler()\n",
    "X_scaled = scaler.fit_transform(X)\n",
    "\n",
    "# Split the scaled data into train and test sets\n",
    "X_train, X_test, y_train, y_test = train_test_split(X_scaled, y, test_size=0.2, random_state=42)\n",
    "\n",
    "# Create and fit the XGBoost model\n",
    "model = xgb.XGBRegressor()\n",
    "model.fit(X_train, y_train)\n",
    "\n",
    "# Predict stock prices\n",
    "y_pred = model.predict(X_test)\n",
    "\n",
    "# Calculate RMSE, MAE, and R-squared\n",
    "rmse = np.sqrt(mean_squared_error(y_test, y_pred))\n",
    "mae = mean_absolute_error(y_test, y_pred)\n",
    "r_squared = r2_score(y_test, y_pred)\n",
    "\n",
    "print('Root Mean Squared Error (RMSE):', rmse)\n",
    "print('Mean Absolute Error (MAE):', mae)\n",
    "print('R-squared:', r_squared)\n",
    "\n"
   ]
  },
  {
   "cell_type": "code",
   "execution_count": 6,
   "id": "3e1e48b5",
   "metadata": {
    "scrolled": false
   },
   "outputs": [],
   "source": [
    "# # Visualize the results with adjusted x-axis ticks\n",
    "# dates = pd.to_datetime(data['date'])\n",
    "# plt.figure(figsize=(12, 6))\n",
    "# plt.plot(dates[:len(y_train)], y_train.values, label='Train', color = 'green')\n",
    "# plt.plot(dates[len(y_train):], y_test.values, label='Actual', color = 'blue')\n",
    "# plt.plot(dates[len(y_train):len(y_train)+len(y_pred)], y_pred, label='Predicted', color = 'red')\n",
    "# plt.xlabel('Date')\n",
    "# plt.ylabel('Stock Price')\n",
    "# plt.title('Stock Prices Prediction Plot - XGBOOST')\n",
    "# plt.legend()\n",
    "\n",
    "# # Adjust x-axis ticks to display only years\n",
    "# plt.gca().xaxis.set_major_locator(plt.MaxNLocator(integer=True))\n",
    "# plt.xticks(rotation=45)\n",
    "\n",
    "# plt.show()\n"
   ]
  },
  {
   "cell_type": "markdown",
   "id": "a023328e",
   "metadata": {},
   "source": [
    "### OPTIMIZED MODEL"
   ]
  },
  {
   "cell_type": "code",
   "execution_count": 4,
   "id": "2fb339b0",
   "metadata": {},
   "outputs": [
    {
     "name": "stdout",
     "output_type": "stream",
     "text": [
      "Best Parameters: {'learning_rate': 0.1, 'max_depth': 3, 'n_estimators': 100}\n",
      "Root Mean Squared Error (RMSE): 27.33535220365094\n",
      "Mean Absolute Error (MAE): 15.980250902932783\n",
      "R-squared: 0.9947176805468972\n"
     ]
    }
   ],
   "source": [
    "import pandas as pd\n",
    "import numpy as np\n",
    "import xgboost as xgb\n",
    "from sklearn.model_selection import train_test_split, GridSearchCV\n",
    "from sklearn.metrics import mean_squared_error, mean_absolute_error, r2_score\n",
    "from sklearn.preprocessing import StandardScaler\n",
    "\n",
    "# Load stock price data (replace 'your_stock_data.csv' with your actual data file)\n",
    "data = pd.read_csv('google.csv')\n",
    "\n",
    "# Assuming your data has columns like 'Date', 'Close', etc.\n",
    "# You might need to preprocess the data to create relevant features.\n",
    "\n",
    "# Use 'Close' price as the feature and shift it to create the target variable\n",
    "data['Next_Day_Close'] = data['close'].shift(-1)\n",
    "\n",
    "# Drop rows with missing values (last row)\n",
    "data.dropna(inplace=True)\n",
    "\n",
    "# Define features and target variable\n",
    "features = ['close']\n",
    "target = 'Next_Day_Close'\n",
    "\n",
    "X = data[features]\n",
    "y = data[target]\n",
    "\n",
    "# Scale the features using MinMaxScaler\n",
    "scaler = MinMaxScaler()\n",
    "X_scaled = scaler.fit_transform(X)\n",
    "\n",
    "# Split the scaled data into train and test sets\n",
    "X_train, X_test, y_train, y_test = train_test_split(X_scaled, y, test_size=0.2, random_state=42)\n",
    "\n",
    "# Hyperparameter tuning using GridSearchCV\n",
    "param_grid = {\n",
    "    'n_estimators': [50, 100, 150],\n",
    "    'learning_rate': [0.01, 0.1, 0.2],\n",
    "    'max_depth': [3, 4, 5]\n",
    "}\n",
    "\n",
    "model = xgb.XGBRegressor(random_state=42)\n",
    "grid_search = GridSearchCV(estimator=model, param_grid=param_grid, cv=3, scoring='neg_mean_squared_error')\n",
    "grid_search.fit(X_train, y_train)\n",
    "\n",
    "best_model = grid_search.best_estimator_\n",
    "\n",
    "# Predict stock prices\n",
    "y_pred = best_model.predict(X_test)\n",
    "\n",
    "# Calculate RMSE, MAE, and R-squared\n",
    "rmse = np.sqrt(mean_squared_error(y_test, y_pred))\n",
    "mae = mean_absolute_error(y_test, y_pred)\n",
    "r_squared = r2_score(y_test, y_pred)\n",
    "\n",
    "print('Best Parameters:', grid_search.best_params_)\n",
    "print('Root Mean Squared Error (RMSE):', rmse)\n",
    "print('Mean Absolute Error (MAE):', mae)\n",
    "print('R-squared:', r_squared)\n"
   ]
  },
  {
   "cell_type": "code",
   "execution_count": 7,
   "id": "f2bbb188",
   "metadata": {},
   "outputs": [],
   "source": [
    "# # Visualize the results with adjusted x-axis ticks\n",
    "# dates = pd.to_datetime(data['date'])\n",
    "# plt.figure(figsize=(12, 6))\n",
    "# plt.plot(dates[:len(y_train)], y_train.values, label='Train', color = 'green')\n",
    "# plt.plot(dates[len(y_train):], y_test.values, label='Actual', color = 'blue')\n",
    "# plt.plot(dates[len(y_train):len(y_train)+len(y_pred)], y_pred, label='Predicted', color = 'red')\n",
    "# plt.xlabel('Date')\n",
    "# plt.ylabel('Stock Price')\n",
    "# plt.title('Stock Prices Prediction Plot - Tuned XGBOOST')\n",
    "# plt.legend()\n",
    "\n",
    "# # Adjust x-axis ticks to display only years\n",
    "# plt.gca().xaxis.set_major_locator(plt.MaxNLocator(integer=True))\n",
    "# plt.xticks(rotation=45)\n",
    "\n",
    "# plt.show()\n"
   ]
  },
  {
   "cell_type": "code",
   "execution_count": null,
   "id": "54c7f766",
   "metadata": {},
   "outputs": [],
   "source": []
  }
 ],
 "metadata": {
  "kernelspec": {
   "display_name": "Python 3 (ipykernel)",
   "language": "python",
   "name": "python3"
  },
  "language_info": {
   "codemirror_mode": {
    "name": "ipython",
    "version": 3
   },
   "file_extension": ".py",
   "mimetype": "text/x-python",
   "name": "python",
   "nbconvert_exporter": "python",
   "pygments_lexer": "ipython3",
   "version": "3.9.13"
  }
 },
 "nbformat": 4,
 "nbformat_minor": 5
}
